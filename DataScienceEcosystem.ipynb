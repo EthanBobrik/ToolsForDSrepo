{
 "cells": [
  {
   "cell_type": "markdown",
   "id": "9585629c-2d99-4f23-8d6b-8656746d9ba4",
   "metadata": {},
   "source": [
    "# Data Science Tools and Ecosystem"
   ]
  },
  {
   "cell_type": "markdown",
   "id": "462cde44-9a68-495d-aa42-c2792e53b1c4",
   "metadata": {},
   "source": [
    "## In this notebook, Data Science Tools and Ecosystem are summarized."
   ]
  },
  {
   "cell_type": "markdown",
   "id": "49841d1c-2cf5-4875-8ab2-e6effce70f47",
   "metadata": {},
   "source": [
    "### __Objectives:__\n",
    "* List popular languages for Data Science\n",
    "* List commonly used libraries in Data Science\n",
    "* Evaluate arithemetic equations\n"
   ]
  },
  {
   "cell_type": "markdown",
   "id": "c2560c31-ff06-465e-b605-b5e86112481f",
   "metadata": {},
   "source": [
    "### Some of the popular languages that Data Scientists use are:\n",
    "1. Python\n",
    "2. R\n",
    "3. SQL"
   ]
  },
  {
   "cell_type": "markdown",
   "id": "adb8fe32-3184-4c1b-94b8-8335c7e37e08",
   "metadata": {},
   "source": [
    "### Some of the commonly used libraries used by Data Scientists include:\n",
    "1. Pandas\n",
    "2. NumPy\n",
    "3. MatplotLib"
   ]
  },
  {
   "cell_type": "markdown",
   "id": "643ce977-2106-4597-a36c-4ac648f96cb9",
   "metadata": {
    "tags": []
   },
   "source": [
    "| Data Science Tools |\n",
    "-----\n",
    "| Github |\n",
    "| Jupyter Notebook |\n",
    "| Apache Spark |\n",
    "| Watson Studio | "
   ]
  },
  {
   "cell_type": "markdown",
   "id": "d3b8183c-f507-41e7-97a7-c144c83d5eb3",
   "metadata": {},
   "source": [
    "### Below are a few examples of evaluating arithmetic expressions in Python"
   ]
  },
  {
   "cell_type": "code",
   "execution_count": 2,
   "id": "62aa0af7-5ed4-4892-a43a-090835aeaec9",
   "metadata": {
    "tags": []
   },
   "outputs": [
    {
     "data": {
      "text/plain": [
       "17"
      ]
     },
     "execution_count": 2,
     "metadata": {},
     "output_type": "execute_result"
    }
   ],
   "source": [
    " #  This a simple arithmetic expression to mutiply then add integers\n",
    "(3*4)+5"
   ]
  },
  {
   "cell_type": "code",
   "execution_count": 3,
   "id": "fb2823b2-6535-446d-81ba-96c1ec152973",
   "metadata": {
    "tags": []
   },
   "outputs": [
    {
     "data": {
      "text/plain": [
       "3.3333333333333335"
      ]
     },
     "execution_count": 3,
     "metadata": {},
     "output_type": "execute_result"
    }
   ],
   "source": [
    "# This will convert 200 minutes to hours by diving by 60\n",
    "200/60"
   ]
  },
  {
   "cell_type": "markdown",
   "id": "cedabdcc-ec61-42d3-8a56-d1520bae153f",
   "metadata": {},
   "source": [
    "## Author \n",
    "Ethan Bobrik"
   ]
  }
 ],
 "metadata": {
  "kernelspec": {
   "display_name": "Python 3 (ipykernel)",
   "language": "python",
   "name": "python3"
  },
  "language_info": {
   "codemirror_mode": {
    "name": "ipython",
    "version": 3
   },
   "file_extension": ".py",
   "mimetype": "text/x-python",
   "name": "python",
   "nbconvert_exporter": "python",
   "pygments_lexer": "ipython3",
   "version": "3.11.4"
  }
 },
 "nbformat": 4,
 "nbformat_minor": 5
}
